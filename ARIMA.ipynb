{
 "cells": [
  {
   "cell_type": "code",
   "execution_count": 12,
   "metadata": {},
   "outputs": [],
   "source": [
    "import numpy as np\n",
    "import pandas as pd\n",
    "import matplotlib.pyplot as plt\n",
    "%matplotlib inline\n",
    "from pandas_datareader import data as web"
   ]
  },
  {
   "cell_type": "code",
   "execution_count": 13,
   "metadata": {},
   "outputs": [],
   "source": [
    "import warnings\n",
    "warnings.simplefilter('ignore',UserWarning)"
   ]
  },
  {
   "cell_type": "code",
   "execution_count": 14,
   "metadata": {},
   "outputs": [
    {
     "data": {
      "text/html": [
       "<div>\n",
       "<style scoped>\n",
       "    .dataframe tbody tr th:only-of-type {\n",
       "        vertical-align: middle;\n",
       "    }\n",
       "\n",
       "    .dataframe tbody tr th {\n",
       "        vertical-align: top;\n",
       "    }\n",
       "\n",
       "    .dataframe thead th {\n",
       "        text-align: right;\n",
       "    }\n",
       "</style>\n",
       "<table border=\"1\" class=\"dataframe\">\n",
       "  <thead>\n",
       "    <tr style=\"text-align: right;\">\n",
       "      <th></th>\n",
       "      <th>High</th>\n",
       "      <th>Low</th>\n",
       "      <th>Open</th>\n",
       "      <th>Close</th>\n",
       "      <th>Volume</th>\n",
       "      <th>Adj Close</th>\n",
       "    </tr>\n",
       "    <tr>\n",
       "      <th>Date</th>\n",
       "      <th></th>\n",
       "      <th></th>\n",
       "      <th></th>\n",
       "      <th></th>\n",
       "      <th></th>\n",
       "      <th></th>\n",
       "    </tr>\n",
       "  </thead>\n",
       "  <tbody>\n",
       "    <tr>\n",
       "      <th>2014-09-24</th>\n",
       "      <td>436.112000</td>\n",
       "      <td>421.131989</td>\n",
       "      <td>435.751007</td>\n",
       "      <td>423.204987</td>\n",
       "      <td>3.062770e+07</td>\n",
       "      <td>423.204987</td>\n",
       "    </tr>\n",
       "    <tr>\n",
       "      <th>2014-09-25</th>\n",
       "      <td>423.519989</td>\n",
       "      <td>409.467987</td>\n",
       "      <td>423.156006</td>\n",
       "      <td>411.574005</td>\n",
       "      <td>2.681440e+07</td>\n",
       "      <td>411.574005</td>\n",
       "    </tr>\n",
       "    <tr>\n",
       "      <th>2014-09-26</th>\n",
       "      <td>414.937988</td>\n",
       "      <td>400.009003</td>\n",
       "      <td>411.428986</td>\n",
       "      <td>404.424988</td>\n",
       "      <td>2.146080e+07</td>\n",
       "      <td>404.424988</td>\n",
       "    </tr>\n",
       "    <tr>\n",
       "      <th>2014-09-27</th>\n",
       "      <td>406.622986</td>\n",
       "      <td>397.372009</td>\n",
       "      <td>403.556000</td>\n",
       "      <td>399.519989</td>\n",
       "      <td>1.502930e+07</td>\n",
       "      <td>399.519989</td>\n",
       "    </tr>\n",
       "    <tr>\n",
       "      <th>2014-09-28</th>\n",
       "      <td>401.016998</td>\n",
       "      <td>374.332001</td>\n",
       "      <td>399.471008</td>\n",
       "      <td>377.181000</td>\n",
       "      <td>2.361330e+07</td>\n",
       "      <td>377.181000</td>\n",
       "    </tr>\n",
       "    <tr>\n",
       "      <th>...</th>\n",
       "      <td>...</td>\n",
       "      <td>...</td>\n",
       "      <td>...</td>\n",
       "      <td>...</td>\n",
       "      <td>...</td>\n",
       "      <td>...</td>\n",
       "    </tr>\n",
       "    <tr>\n",
       "      <th>2021-08-21</th>\n",
       "      <td>49717.019531</td>\n",
       "      <td>48312.199219</td>\n",
       "      <td>49327.074219</td>\n",
       "      <td>48905.492188</td>\n",
       "      <td>4.058521e+10</td>\n",
       "      <td>48905.492188</td>\n",
       "    </tr>\n",
       "    <tr>\n",
       "      <th>2021-08-22</th>\n",
       "      <td>49471.609375</td>\n",
       "      <td>48199.941406</td>\n",
       "      <td>48869.105469</td>\n",
       "      <td>49321.652344</td>\n",
       "      <td>2.537098e+10</td>\n",
       "      <td>49321.652344</td>\n",
       "    </tr>\n",
       "    <tr>\n",
       "      <th>2021-08-23</th>\n",
       "      <td>50482.078125</td>\n",
       "      <td>49074.605469</td>\n",
       "      <td>49291.675781</td>\n",
       "      <td>49546.148438</td>\n",
       "      <td>3.430505e+10</td>\n",
       "      <td>49546.148438</td>\n",
       "    </tr>\n",
       "    <tr>\n",
       "      <th>2021-08-24</th>\n",
       "      <td>49878.769531</td>\n",
       "      <td>47687.117188</td>\n",
       "      <td>49562.347656</td>\n",
       "      <td>47706.117188</td>\n",
       "      <td>3.536117e+10</td>\n",
       "      <td>47706.117188</td>\n",
       "    </tr>\n",
       "    <tr>\n",
       "      <th>2021-08-25</th>\n",
       "      <td>49202.878906</td>\n",
       "      <td>47163.613281</td>\n",
       "      <td>47727.257812</td>\n",
       "      <td>48960.789062</td>\n",
       "      <td>3.264635e+10</td>\n",
       "      <td>48960.789062</td>\n",
       "    </tr>\n",
       "  </tbody>\n",
       "</table>\n",
       "<p>2524 rows × 6 columns</p>\n",
       "</div>"
      ],
      "text/plain": [
       "                    High           Low          Open         Close  \\\n",
       "Date                                                                 \n",
       "2014-09-24    436.112000    421.131989    435.751007    423.204987   \n",
       "2014-09-25    423.519989    409.467987    423.156006    411.574005   \n",
       "2014-09-26    414.937988    400.009003    411.428986    404.424988   \n",
       "2014-09-27    406.622986    397.372009    403.556000    399.519989   \n",
       "2014-09-28    401.016998    374.332001    399.471008    377.181000   \n",
       "...                  ...           ...           ...           ...   \n",
       "2021-08-21  49717.019531  48312.199219  49327.074219  48905.492188   \n",
       "2021-08-22  49471.609375  48199.941406  48869.105469  49321.652344   \n",
       "2021-08-23  50482.078125  49074.605469  49291.675781  49546.148438   \n",
       "2021-08-24  49878.769531  47687.117188  49562.347656  47706.117188   \n",
       "2021-08-25  49202.878906  47163.613281  47727.257812  48960.789062   \n",
       "\n",
       "                  Volume     Adj Close  \n",
       "Date                                    \n",
       "2014-09-24  3.062770e+07    423.204987  \n",
       "2014-09-25  2.681440e+07    411.574005  \n",
       "2014-09-26  2.146080e+07    404.424988  \n",
       "2014-09-27  1.502930e+07    399.519989  \n",
       "2014-09-28  2.361330e+07    377.181000  \n",
       "...                  ...           ...  \n",
       "2021-08-21  4.058521e+10  48905.492188  \n",
       "2021-08-22  2.537098e+10  49321.652344  \n",
       "2021-08-23  3.430505e+10  49546.148438  \n",
       "2021-08-24  3.536117e+10  47706.117188  \n",
       "2021-08-25  3.264635e+10  48960.789062  \n",
       "\n",
       "[2524 rows x 6 columns]"
      ]
     },
     "execution_count": 14,
     "metadata": {},
     "output_type": "execute_result"
    }
   ],
   "source": [
    "df = web.get_data_yahoo('BTC-USD', start = '2014-09-25', end = '2021-08-25')\n",
    "df"
   ]
  },
  {
   "cell_type": "code",
   "execution_count": 16,
   "metadata": {},
   "outputs": [
    {
     "data": {
      "image/png": "[encoded data removed]",
      "text/plain": [
       "<Figure size 1152x576 with 1 Axes>"
      ]
     },
     "metadata": {
      "needs_background": "light"
     },
     "output_type": "display_data"
    }
   ],
   "source": [
    "plt.figure(figsize=(16,8))\n",
    "plt.plot(df['Close'])\n",
    "plt.title('Bitcoin value')\n",
    "plt.xlabel('Date')\n",
    "plt.ylabel('Price')\n",
    "plt.show()"
   ]
  },
  {
   "cell_type": "code",
   "execution_count": 18,
   "metadata": {},
   "outputs": [],
   "source": [
    "from statsmodels.tsa.arima_model import ARIMA\n",
    "from sklearn.metrics import mean_squared_error"
   ]
  },
  {
   "cell_type": "code",
   "execution_count": 19,
   "metadata": {},
   "outputs": [
    {
     "data": {
      "text/html": [
       "<div>\n",
       "<style scoped>\n",
       "    .dataframe tbody tr th:only-of-type {\n",
       "        vertical-align: middle;\n",
       "    }\n",
       "\n",
       "    .dataframe tbody tr th {\n",
       "        vertical-align: top;\n",
       "    }\n",
       "\n",
       "    .dataframe thead th {\n",
       "        text-align: right;\n",
       "    }\n",
       "</style>\n",
       "<table border=\"1\" class=\"dataframe\">\n",
       "  <thead>\n",
       "    <tr style=\"text-align: right;\">\n",
       "      <th></th>\n",
       "      <th>High</th>\n",
       "      <th>Low</th>\n",
       "      <th>Open</th>\n",
       "      <th>Close</th>\n",
       "      <th>Volume</th>\n",
       "      <th>Adj Close</th>\n",
       "    </tr>\n",
       "    <tr>\n",
       "      <th>Date</th>\n",
       "      <th></th>\n",
       "      <th></th>\n",
       "      <th></th>\n",
       "      <th></th>\n",
       "      <th></th>\n",
       "      <th></th>\n",
       "    </tr>\n",
       "  </thead>\n",
       "  <tbody>\n",
       "    <tr>\n",
       "      <th>2014-09-24</th>\n",
       "      <td>436.112000</td>\n",
       "      <td>421.131989</td>\n",
       "      <td>435.751007</td>\n",
       "      <td>423.204987</td>\n",
       "      <td>30627700.0</td>\n",
       "      <td>423.204987</td>\n",
       "    </tr>\n",
       "    <tr>\n",
       "      <th>2014-09-25</th>\n",
       "      <td>423.519989</td>\n",
       "      <td>409.467987</td>\n",
       "      <td>423.156006</td>\n",
       "      <td>411.574005</td>\n",
       "      <td>26814400.0</td>\n",
       "      <td>411.574005</td>\n",
       "    </tr>\n",
       "    <tr>\n",
       "      <th>2014-09-26</th>\n",
       "      <td>414.937988</td>\n",
       "      <td>400.009003</td>\n",
       "      <td>411.428986</td>\n",
       "      <td>404.424988</td>\n",
       "      <td>21460800.0</td>\n",
       "      <td>404.424988</td>\n",
       "    </tr>\n",
       "    <tr>\n",
       "      <th>2014-09-27</th>\n",
       "      <td>406.622986</td>\n",
       "      <td>397.372009</td>\n",
       "      <td>403.556000</td>\n",
       "      <td>399.519989</td>\n",
       "      <td>15029300.0</td>\n",
       "      <td>399.519989</td>\n",
       "    </tr>\n",
       "    <tr>\n",
       "      <th>2014-09-28</th>\n",
       "      <td>401.016998</td>\n",
       "      <td>374.332001</td>\n",
       "      <td>399.471008</td>\n",
       "      <td>377.181000</td>\n",
       "      <td>23613300.0</td>\n",
       "      <td>377.181000</td>\n",
       "    </tr>\n",
       "  </tbody>\n",
       "</table>\n",
       "</div>"
      ],
      "text/plain": [
       "                  High         Low        Open       Close      Volume  \\\n",
       "Date                                                                     \n",
       "2014-09-24  436.112000  421.131989  435.751007  423.204987  30627700.0   \n",
       "2014-09-25  423.519989  409.467987  423.156006  411.574005  26814400.0   \n",
       "2014-09-26  414.937988  400.009003  411.428986  404.424988  21460800.0   \n",
       "2014-09-27  406.622986  397.372009  403.556000  399.519989  15029300.0   \n",
       "2014-09-28  401.016998  374.332001  399.471008  377.181000  23613300.0   \n",
       "\n",
       "             Adj Close  \n",
       "Date                    \n",
       "2014-09-24  423.204987  \n",
       "2014-09-25  411.574005  \n",
       "2014-09-26  404.424988  \n",
       "2014-09-27  399.519989  \n",
       "2014-09-28  377.181000  "
      ]
     },
     "execution_count": 19,
     "metadata": {},
     "output_type": "execute_result"
    }
   ],
   "source": [
    "df.head()"
   ]
  },
  {
   "cell_type": "code",
   "execution_count": 20,
   "metadata": {},
   "outputs": [
    {
     "data": {
      "text/plain": [
       "2524"
      ]
     },
     "execution_count": 20,
     "metadata": {},
     "output_type": "execute_result"
    }
   ],
   "source": [
    "len(df)"
   ]
  },
  {
   "cell_type": "code",
   "execution_count": 21,
   "metadata": {},
   "outputs": [
    {
     "data": {
      "text/plain": [
       "Index(['High', 'Low', 'Open', 'Close', 'Volume', 'Adj Close'], dtype='object')"
      ]
     },
     "execution_count": 21,
     "metadata": {},
     "output_type": "execute_result"
    }
   ],
   "source": [
    "df.columns"
   ]
  },
  {
   "cell_type": "code",
   "execution_count": 22,
   "metadata": {},
   "outputs": [],
   "source": [
    "df['Open'].fillna(value=df['Open'].mean(),inplace=True)"
   ]
  },
  {
   "cell_type": "code",
   "execution_count": 23,
   "metadata": {},
   "outputs": [],
   "source": [
    "df.reset_index(drop=True,inplace=True)"
   ]
  },
  {
   "cell_type": "code",
   "execution_count": 55,
   "metadata": {},
   "outputs": [
    {
     "data": {
      "text/plain": [
       "const           18.801589\n",
       "ar.L1.D.Open    -0.487153\n",
       "ar.L2.D.Open    -0.954377\n",
       "ma.L1.D.Open     0.437519\n",
       "ma.L2.D.Open     0.980253\n",
       "dtype: float64"
      ]
     },
     "execution_count": 55,
     "metadata": {},
     "output_type": "execute_result"
    }
   ],
   "source": [
    "#model=ARIMA(df['Open'].fillna(value=df['Open'].mean()),order=(2,1,2))\n",
    "model=ARIMA(df['Open'],order=(2,1,2))\n",
    "model_fit=model.fit()\n",
    "model_fit.params"
   ]
  },
  {
   "cell_type": "code",
   "execution_count": 56,
   "metadata": {},
   "outputs": [
    {
     "name": "stdout",
     "output_type": "stream",
     "text": [
      "2         443.806281\n",
      "3         431.735983\n",
      "4         421.944199\n",
      "5         418.693134\n",
      "6         398.593503\n",
      "            ...     \n",
      "2519    46700.115631\n",
      "2520    49138.821200\n",
      "2521    49110.036445\n",
      "2522    49383.879767\n",
      "2523    49329.237882\n",
      "Length: 2522, dtype: float64\n"
     ]
    }
   ],
   "source": [
    "x=model_fit.predict(typ='levels')\n",
    "print(x)"
   ]
  },
  {
   "cell_type": "code",
   "execution_count": 57,
   "metadata": {},
   "outputs": [
    {
     "data": {
      "image/png": "[encoded data removed]",
      "text/plain": [
       "<Figure size 1224x648 with 1 Axes>"
      ]
     },
     "metadata": {
      "needs_background": "light"
     },
     "output_type": "display_data"
    }
   ],
   "source": [
    "df['forecast']=model_fit.predict(start=2200,typ='levels')\n",
    "df[['Open','forecast']].plot(figsize=(17,9))\n",
    "plt.show()"
   ]
  },
  {
   "cell_type": "code",
   "execution_count": 58,
   "metadata": {},
   "outputs": [
    {
     "data": {
      "text/plain": [
       "423537.3748746528"
      ]
     },
     "execution_count": 58,
     "metadata": {},
     "output_type": "execute_result"
    }
   ],
   "source": [
    "mean_squared_error(df['Open'][2:len(df)],x)"
   ]
  },
  {
   "cell_type": "code",
   "execution_count": null,
   "metadata": {},
   "outputs": [],
   "source": []
  }
 ],
 "metadata": {
  "kernelspec": {
   "display_name": "Python 3",
   "language": "python",
   "name": "python3"
  },
  "language_info": {
   "codemirror_mode": {
    "name": "ipython",
    "version": 3
   },
   "file_extension": ".py",
   "mimetype": "text/x-python",
   "name": "python",
   "nbconvert_exporter": "python",
   "pygments_lexer": "ipython3",
   "version": "3.7.6"
  }
 },
 "nbformat": 4,
 "nbformat_minor": 4
}
